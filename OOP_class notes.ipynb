{
 "cells": [
  {
   "cell_type": "code",
   "execution_count": 2,
   "id": "4ecfdef5",
   "metadata": {},
   "outputs": [],
   "source": [
    "# creating a class\n",
    "# start with the class keyword\n",
    "\n",
    "# create it without the round bracket\n",
    "class DataAnalytics:\n",
    "    pass"
   ]
  },
  {
   "cell_type": "code",
   "execution_count": 6,
   "id": "707bcbfc",
   "metadata": {},
   "outputs": [
    {
     "data": {
      "text/plain": [
       "<__main__.DataAnalytics at 0x245cd1fdf70>"
      ]
     },
     "execution_count": 6,
     "metadata": {},
     "output_type": "execute_result"
    }
   ],
   "source": [
    "# creating an instance of the class\n",
    "# keep the class in a variable\n",
    "# call it with the round bracket\n",
    "Data = DataAnalytics()\n",
    "Data"
   ]
  },
  {
   "cell_type": "code",
   "execution_count": 7,
   "id": "3502b342",
   "metadata": {},
   "outputs": [
    {
     "data": {
      "text/plain": [
       "__main__.DataAnalytics"
      ]
     },
     "execution_count": 7,
     "metadata": {},
     "output_type": "execute_result"
    }
   ],
   "source": [
    "type(Data)"
   ]
  },
  {
   "cell_type": "code",
   "execution_count": 8,
   "id": "8e01dc59",
   "metadata": {},
   "outputs": [],
   "source": [
    "# creating a class called Fruits\n",
    "# first function should be an init\n",
    "# first argument should be self (attribute)\n",
    "class Fruits:\n",
    "    def __init__(self, name, colour, age):\n",
    "        self.name = name\n",
    "        self.colour = colour\n",
    "        self.age = age\n",
    "        \n",
    "    def __str__(self):\n",
    "        stringy =  f'{self.name.title()} is a fruit and it has a {self.colour} colour'\n",
    "        return stringy\n",
    "    \n",
    "    # method\n",
    "    def set_texture(self, texture):\n",
    "        # to get the texture this is how to call it\n",
    "        self.texture = texture\n",
    "    "
   ]
  },
  {
   "cell_type": "code",
   "execution_count": 9,
   "id": "3d83803e",
   "metadata": {},
   "outputs": [
    {
     "data": {
      "text/plain": [
       "<__main__.Fruits at 0x245cd2ef6d0>"
      ]
     },
     "execution_count": 9,
     "metadata": {},
     "output_type": "execute_result"
    }
   ],
   "source": [
    "Fruits(\"Orange\", \"yellow\", \"102\")"
   ]
  },
  {
   "cell_type": "code",
   "execution_count": 10,
   "id": "aee14324",
   "metadata": {},
   "outputs": [],
   "source": [
    "orange = Fruits(\"Orange\", \"yellow\", \"102\")"
   ]
  },
  {
   "cell_type": "code",
   "execution_count": 11,
   "id": "8ef44fb0",
   "metadata": {},
   "outputs": [
    {
     "data": {
      "text/plain": [
       "'Orange'"
      ]
     },
     "execution_count": 11,
     "metadata": {},
     "output_type": "execute_result"
    }
   ],
   "source": [
    "orange.name"
   ]
  },
  {
   "cell_type": "code",
   "execution_count": 12,
   "id": "e0563df3",
   "metadata": {},
   "outputs": [
    {
     "data": {
      "text/plain": [
       "'102'"
      ]
     },
     "execution_count": 12,
     "metadata": {},
     "output_type": "execute_result"
    }
   ],
   "source": [
    "orange.age"
   ]
  },
  {
   "cell_type": "code",
   "execution_count": 18,
   "id": "15e229e4",
   "metadata": {},
   "outputs": [],
   "source": [
    "apple = Fruits(\"apple\", \"green\", 90)\n"
   ]
  },
  {
   "cell_type": "code",
   "execution_count": 19,
   "id": "d6727276",
   "metadata": {},
   "outputs": [
    {
     "data": {
      "text/plain": [
       "90"
      ]
     },
     "execution_count": 19,
     "metadata": {},
     "output_type": "execute_result"
    }
   ],
   "source": [
    "# getting the age of the apple\n",
    "apple.age"
   ]
  },
  {
   "cell_type": "code",
   "execution_count": 20,
   "id": "9dae5043",
   "metadata": {},
   "outputs": [
    {
     "data": {
      "text/plain": [
       "'green'"
      ]
     },
     "execution_count": 20,
     "metadata": {},
     "output_type": "execute_result"
    }
   ],
   "source": [
    "# getting the colour \n",
    "apple.colour"
   ]
  },
  {
   "cell_type": "code",
   "execution_count": 21,
   "id": "e160d228",
   "metadata": {},
   "outputs": [
    {
     "data": {
      "text/plain": [
       "'apple'"
      ]
     },
     "execution_count": 21,
     "metadata": {},
     "output_type": "execute_result"
    }
   ],
   "source": [
    "# getting the name of the fruit\n",
    "apple.name"
   ]
  },
  {
   "cell_type": "code",
   "execution_count": 22,
   "id": "b9057e17",
   "metadata": {},
   "outputs": [],
   "source": [
    "apple.set_texture(\"smooth\")"
   ]
  },
  {
   "cell_type": "code",
   "execution_count": 23,
   "id": "4f2c329f",
   "metadata": {},
   "outputs": [],
   "source": [
    "orange.set_texture('rough')"
   ]
  },
  {
   "cell_type": "code",
   "execution_count": 25,
   "id": "7b9e333d",
   "metadata": {},
   "outputs": [
    {
     "data": {
      "text/plain": [
       "'smooth'"
      ]
     },
     "execution_count": 25,
     "metadata": {},
     "output_type": "execute_result"
    }
   ],
   "source": [
    "apple.texture"
   ]
  },
  {
   "cell_type": "code",
   "execution_count": 26,
   "id": "612b4852",
   "metadata": {},
   "outputs": [
    {
     "data": {
      "text/plain": [
       "'rough'"
      ]
     },
     "execution_count": 26,
     "metadata": {},
     "output_type": "execute_result"
    }
   ],
   "source": [
    "orange.texture"
   ]
  },
  {
   "cell_type": "code",
   "execution_count": 33,
   "id": "f08b027b",
   "metadata": {},
   "outputs": [
    {
     "data": {
      "text/plain": [
       "'Orange is a fruit and it has a yellow colour'"
      ]
     },
     "execution_count": 33,
     "metadata": {},
     "output_type": "execute_result"
    }
   ],
   "source": [
    "# to get the string\n",
    "\n",
    "str(orange)"
   ]
  },
  {
   "cell_type": "code",
   "execution_count": 34,
   "id": "2117cac1",
   "metadata": {},
   "outputs": [
    {
     "name": "stdout",
     "output_type": "stream",
     "text": [
      "Orange is a fruit and it has a yellow colour\n"
     ]
    }
   ],
   "source": [
    "# another way of getting the strings\n",
    "print(orange)"
   ]
  },
  {
   "cell_type": "code",
   "execution_count": null,
   "id": "89c27d55",
   "metadata": {},
   "outputs": [],
   "source": [
    "# private and public methods\n",
    "\n",
    "class Student:\n",
    "    def __init__(self, name, colour, age):\n",
    "        self.name = name #public\n",
    "        self.__index_number = index_number # private\n",
    "        self.marks = {}\n",
    "        \n",
    "    def get_index_number(self):\n",
    "        return self.__index_number\n",
    "    \n",
    "    def add_marks(self, subject, marks):\n",
    "        self.marks[subject] = marks\n",
    "        \n",
    "    def get_marks(self):\n",
    "        return self.marks\n",
    "        "
   ]
  }
 ],
 "metadata": {
  "kernelspec": {
   "display_name": "Python 3 (ipykernel)",
   "language": "python",
   "name": "python3"
  },
  "language_info": {
   "codemirror_mode": {
    "name": "ipython",
    "version": 3
   },
   "file_extension": ".py",
   "mimetype": "text/x-python",
   "name": "python",
   "nbconvert_exporter": "python",
   "pygments_lexer": "ipython3",
   "version": "3.9.13"
  }
 },
 "nbformat": 4,
 "nbformat_minor": 5
}
