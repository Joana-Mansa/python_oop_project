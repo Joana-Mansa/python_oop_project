{
 "cells": [
  {
   "cell_type": "markdown",
   "id": "9f0b3b8f",
   "metadata": {},
   "source": [
    "# Measurement Converter\n",
    "Converts one unit of measurement to another unit of measurement\n",
    "\n",
    "Feet to meters ( 1 foot = 0.3048 meters)\n",
    "\n",
    "Pounds to grams (1 pound = 453.592 grams)\n",
    "\n",
    "Celcius to fahrenheit ( 0 degrees = 32 fahrenheight)"
   ]
  },
  {
   "cell_type": "markdown",
   "id": "e3ca6282",
   "metadata": {},
   "source": [
    "1. Define the class\n",
    "\n",
    "2. initialise an instance \n",
    "\n",
    "3. Take amount in Ghana cedi as argument\n",
    "    cedi to dollar conversion method\n",
    "    cedi to euro\n",
    "    cedi to pound\n",
    "    cedi to yen\n",
    "\n",
    "4. Interract with the user to choose the \n"
   ]
  },
  {
   "cell_type": "code",
   "execution_count": 16,
   "id": "442ad8e0",
   "metadata": {},
   "outputs": [],
   "source": [
    "class Converter:\n",
    "    # attributes\n",
    "    def __init__(self, amount):\n",
    "        self.amount = amount\n",
    "        \n",
    "    def __str__(self):\n",
    "        return f'The amount is GHs {self.amount}'\n",
    "    \n",
    "    # cedi-dollar convertion\n",
    "    def cedi_dollar(self):\n",
    "        dollar = self.amount* 0.080\n",
    "        return f'GHs {self.amount} is ${dollar}'\n",
    "    \n",
    "    # cedis to pound\n",
    "    def cedi_pound(self):\n",
    "        pound = self.amount* 0.066\n",
    "        return f'GHs {self.amount} is £{pound}'\n",
    "    \n",
    "    # cedis to euro\n",
    "    def cedi_euro(self):\n",
    "        euro = self.amount* 0.075\n",
    "        return f'GHs {self.amount} is €{euro}'\n",
    "    \n",
    "    # 10.79 yen\n",
    "    def cedi_yen(self):\n",
    "        yen = self.amount* 10.79\n",
    "        return f'GHs {self.amount} is ¥{yen}'\n",
    "    \n"
   ]
  },
  {
   "cell_type": "code",
   "execution_count": 18,
   "id": "d8a34328",
   "metadata": {},
   "outputs": [
    {
     "name": "stdout",
     "output_type": "stream",
     "text": [
      "Enter Cedi Amount: 200\n"
     ]
    },
    {
     "data": {
      "text/plain": [
       "'GHs 200 is ¥2158.0'"
      ]
     },
     "execution_count": 18,
     "metadata": {},
     "output_type": "execute_result"
    }
   ],
   "source": [
    "# takes an input \n",
    "cedi_amount = Converter(int(input('Enter Cedi Amount: ')))\n",
    "cedi_amount.cedi_yen()"
   ]
  },
  {
   "cell_type": "code",
   "execution_count": 27,
   "id": "3030f888",
   "metadata": {},
   "outputs": [
    {
     "name": "stdout",
     "output_type": "stream",
     "text": [
      "Enter the number corresponding to prefered currency? \n",
      " 1. Dollar \n",
      " 2. Pound \n",
      " 3. Euro \n",
      " 4. Yen1\n",
      "GHs 200 is $16.0\n"
     ]
    }
   ],
   "source": [
    "# asks the user the conversion they want to do\n",
    "currency = int(input(\"Enter the number corresponding to prefered currency? \\n 1. Dollar \\n 2. Pound \\n 3. Euro \\n 4. Yen\"))\n",
    "\n",
    "\n",
    "if currency ==1:\n",
    "    print(cedi_amount.cedi_dollar())\n",
    "elif currency ==2:\n",
    "    print(cedi_amount.cedi_pound())\n",
    "elif currency == 3:\n",
    "    print(cedi_amount.cedi_euro())\n",
    "elif currency == 4:\n",
    "    print(cedi_amount.cedi_yen())\n",
    "else:\n",
    "    print('Kindly check your input')\n",
    "    \n",
    "        "
   ]
  },
  {
   "cell_type": "code",
   "execution_count": null,
   "id": "f9440f82",
   "metadata": {},
   "outputs": [],
   "source": []
  }
 ],
 "metadata": {
  "kernelspec": {
   "display_name": "Python 3 (ipykernel)",
   "language": "python",
   "name": "python3"
  },
  "language_info": {
   "codemirror_mode": {
    "name": "ipython",
    "version": 3
   },
   "file_extension": ".py",
   "mimetype": "text/x-python",
   "name": "python",
   "nbconvert_exporter": "python",
   "pygments_lexer": "ipython3",
   "version": "3.9.13"
  }
 },
 "nbformat": 4,
 "nbformat_minor": 5
}
